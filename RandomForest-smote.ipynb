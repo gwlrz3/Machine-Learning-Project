{
 "cells": [
  {
   "cell_type": "markdown",
   "metadata": {},
   "source": [
    "### Import Library"
   ]
  },
  {
   "cell_type": "code",
   "execution_count": 1,
   "metadata": {},
   "outputs": [
    {
     "name": "stderr",
     "output_type": "stream",
     "text": [
      "/Users/tong/anaconda/lib/python2.7/site-packages/sklearn/cross_validation.py:41: DeprecationWarning: This module was deprecated in version 0.18 in favor of the model_selection module into which all the refactored classes and functions are moved. Also note that the interface of the new CV iterators are different from that of this module. This module will be removed in 0.20.\n",
      "  \"This module will be removed in 0.20.\", DeprecationWarning)\n"
     ]
    }
   ],
   "source": [
    "%matplotlib inline\n",
    "\n",
    "import numpy as np\n",
    "import scipy as sp\n",
    "import pandas as pd\n",
    "import sklearn\n",
    "import seaborn as sns\n",
    "from matplotlib import pyplot as plt\n",
    "\n",
    "from sklearn.ensemble import RandomForestClassifier\n",
    "from sklearn.model_selection import cross_val_score\n",
    "from sklearn.model_selection import LeaveOneOut\n",
    "from sklearn import cross_validation\n",
    "from imblearn.over_sampling import SMOTE\n",
    "from sklearn.model_selection import train_test_split\n",
    "from sklearn.metrics import recall_score\n",
    "from prettytable import PrettyTable\n",
    "from sklearn.model_selection import KFold\n",
    "from sklearn.neighbors import KNeighborsRegressor"
   ]
  },
  {
   "cell_type": "markdown",
   "metadata": {},
   "source": [
    "### Load Data"
   ]
  },
  {
   "cell_type": "code",
   "execution_count": 2,
   "metadata": {},
   "outputs": [
    {
     "data": {
      "text/html": [
       "<div>\n",
       "<style>\n",
       "    .dataframe thead tr:only-child th {\n",
       "        text-align: right;\n",
       "    }\n",
       "\n",
       "    .dataframe thead th {\n",
       "        text-align: left;\n",
       "    }\n",
       "\n",
       "    .dataframe tbody tr th {\n",
       "        vertical-align: top;\n",
       "    }\n",
       "</style>\n",
       "<table border=\"1\" class=\"dataframe\">\n",
       "  <thead>\n",
       "    <tr style=\"text-align: right;\">\n",
       "      <th></th>\n",
       "      <th>fixed acidity</th>\n",
       "      <th>volatile acidity</th>\n",
       "      <th>citric acid</th>\n",
       "      <th>residual sugar</th>\n",
       "      <th>chlorides</th>\n",
       "      <th>free sulfur dioxide</th>\n",
       "      <th>total sulfur dioxide</th>\n",
       "      <th>density</th>\n",
       "      <th>pH</th>\n",
       "      <th>sulphates</th>\n",
       "      <th>alcohol</th>\n",
       "      <th>quality</th>\n",
       "    </tr>\n",
       "  </thead>\n",
       "  <tbody>\n",
       "    <tr>\n",
       "      <th>0</th>\n",
       "      <td>7.0</td>\n",
       "      <td>0.27</td>\n",
       "      <td>0.36</td>\n",
       "      <td>20.7</td>\n",
       "      <td>0.045</td>\n",
       "      <td>45.0</td>\n",
       "      <td>170.0</td>\n",
       "      <td>1.0010</td>\n",
       "      <td>3.00</td>\n",
       "      <td>0.45</td>\n",
       "      <td>8.8</td>\n",
       "      <td>6</td>\n",
       "    </tr>\n",
       "    <tr>\n",
       "      <th>1</th>\n",
       "      <td>6.3</td>\n",
       "      <td>0.30</td>\n",
       "      <td>0.34</td>\n",
       "      <td>1.6</td>\n",
       "      <td>0.049</td>\n",
       "      <td>14.0</td>\n",
       "      <td>132.0</td>\n",
       "      <td>0.9940</td>\n",
       "      <td>3.30</td>\n",
       "      <td>0.49</td>\n",
       "      <td>9.5</td>\n",
       "      <td>6</td>\n",
       "    </tr>\n",
       "    <tr>\n",
       "      <th>2</th>\n",
       "      <td>8.1</td>\n",
       "      <td>0.28</td>\n",
       "      <td>0.40</td>\n",
       "      <td>6.9</td>\n",
       "      <td>0.050</td>\n",
       "      <td>30.0</td>\n",
       "      <td>97.0</td>\n",
       "      <td>0.9951</td>\n",
       "      <td>3.26</td>\n",
       "      <td>0.44</td>\n",
       "      <td>10.1</td>\n",
       "      <td>6</td>\n",
       "    </tr>\n",
       "    <tr>\n",
       "      <th>3</th>\n",
       "      <td>7.2</td>\n",
       "      <td>0.23</td>\n",
       "      <td>0.32</td>\n",
       "      <td>8.5</td>\n",
       "      <td>0.058</td>\n",
       "      <td>47.0</td>\n",
       "      <td>186.0</td>\n",
       "      <td>0.9956</td>\n",
       "      <td>3.19</td>\n",
       "      <td>0.40</td>\n",
       "      <td>9.9</td>\n",
       "      <td>6</td>\n",
       "    </tr>\n",
       "    <tr>\n",
       "      <th>4</th>\n",
       "      <td>7.2</td>\n",
       "      <td>0.23</td>\n",
       "      <td>0.32</td>\n",
       "      <td>8.5</td>\n",
       "      <td>0.058</td>\n",
       "      <td>47.0</td>\n",
       "      <td>186.0</td>\n",
       "      <td>0.9956</td>\n",
       "      <td>3.19</td>\n",
       "      <td>0.40</td>\n",
       "      <td>9.9</td>\n",
       "      <td>6</td>\n",
       "    </tr>\n",
       "  </tbody>\n",
       "</table>\n",
       "</div>"
      ],
      "text/plain": [
       "   fixed acidity  volatile acidity  citric acid  residual sugar  chlorides  \\\n",
       "0            7.0              0.27         0.36            20.7      0.045   \n",
       "1            6.3              0.30         0.34             1.6      0.049   \n",
       "2            8.1              0.28         0.40             6.9      0.050   \n",
       "3            7.2              0.23         0.32             8.5      0.058   \n",
       "4            7.2              0.23         0.32             8.5      0.058   \n",
       "\n",
       "   free sulfur dioxide  total sulfur dioxide  density    pH  sulphates  \\\n",
       "0                 45.0                 170.0   1.0010  3.00       0.45   \n",
       "1                 14.0                 132.0   0.9940  3.30       0.49   \n",
       "2                 30.0                  97.0   0.9951  3.26       0.44   \n",
       "3                 47.0                 186.0   0.9956  3.19       0.40   \n",
       "4                 47.0                 186.0   0.9956  3.19       0.40   \n",
       "\n",
       "   alcohol  quality  \n",
       "0      8.8        6  \n",
       "1      9.5        6  \n",
       "2     10.1        6  \n",
       "3      9.9        6  \n",
       "4      9.9        6  "
      ]
     },
     "execution_count": 2,
     "metadata": {},
     "output_type": "execute_result"
    }
   ],
   "source": [
    "df = pd.read_csv(\"./dataset/winequality-white.csv\", sep=';')\n",
    "df.head()"
   ]
  },
  {
   "cell_type": "markdown",
   "metadata": {},
   "source": [
    "Separate the dataset into **feature matrix X** & **respoinse vector y**."
   ]
  },
  {
   "cell_type": "code",
   "execution_count": 3,
   "metadata": {},
   "outputs": [
    {
     "data": {
      "text/html": [
       "<div>\n",
       "<style>\n",
       "    .dataframe thead tr:only-child th {\n",
       "        text-align: right;\n",
       "    }\n",
       "\n",
       "    .dataframe thead th {\n",
       "        text-align: left;\n",
       "    }\n",
       "\n",
       "    .dataframe tbody tr th {\n",
       "        vertical-align: top;\n",
       "    }\n",
       "</style>\n",
       "<table border=\"1\" class=\"dataframe\">\n",
       "  <thead>\n",
       "    <tr style=\"text-align: right;\">\n",
       "      <th></th>\n",
       "      <th>fixed acidity</th>\n",
       "      <th>volatile acidity</th>\n",
       "      <th>citric acid</th>\n",
       "      <th>residual sugar</th>\n",
       "      <th>chlorides</th>\n",
       "      <th>free sulfur dioxide</th>\n",
       "      <th>total sulfur dioxide</th>\n",
       "      <th>density</th>\n",
       "      <th>pH</th>\n",
       "      <th>sulphates</th>\n",
       "      <th>alcohol</th>\n",
       "    </tr>\n",
       "  </thead>\n",
       "  <tbody>\n",
       "    <tr>\n",
       "      <th>0</th>\n",
       "      <td>7.0</td>\n",
       "      <td>0.27</td>\n",
       "      <td>0.36</td>\n",
       "      <td>20.7</td>\n",
       "      <td>0.045</td>\n",
       "      <td>45.0</td>\n",
       "      <td>170.0</td>\n",
       "      <td>1.0010</td>\n",
       "      <td>3.00</td>\n",
       "      <td>0.45</td>\n",
       "      <td>8.8</td>\n",
       "    </tr>\n",
       "    <tr>\n",
       "      <th>1</th>\n",
       "      <td>6.3</td>\n",
       "      <td>0.30</td>\n",
       "      <td>0.34</td>\n",
       "      <td>1.6</td>\n",
       "      <td>0.049</td>\n",
       "      <td>14.0</td>\n",
       "      <td>132.0</td>\n",
       "      <td>0.9940</td>\n",
       "      <td>3.30</td>\n",
       "      <td>0.49</td>\n",
       "      <td>9.5</td>\n",
       "    </tr>\n",
       "    <tr>\n",
       "      <th>2</th>\n",
       "      <td>8.1</td>\n",
       "      <td>0.28</td>\n",
       "      <td>0.40</td>\n",
       "      <td>6.9</td>\n",
       "      <td>0.050</td>\n",
       "      <td>30.0</td>\n",
       "      <td>97.0</td>\n",
       "      <td>0.9951</td>\n",
       "      <td>3.26</td>\n",
       "      <td>0.44</td>\n",
       "      <td>10.1</td>\n",
       "    </tr>\n",
       "    <tr>\n",
       "      <th>3</th>\n",
       "      <td>7.2</td>\n",
       "      <td>0.23</td>\n",
       "      <td>0.32</td>\n",
       "      <td>8.5</td>\n",
       "      <td>0.058</td>\n",
       "      <td>47.0</td>\n",
       "      <td>186.0</td>\n",
       "      <td>0.9956</td>\n",
       "      <td>3.19</td>\n",
       "      <td>0.40</td>\n",
       "      <td>9.9</td>\n",
       "    </tr>\n",
       "    <tr>\n",
       "      <th>4</th>\n",
       "      <td>7.2</td>\n",
       "      <td>0.23</td>\n",
       "      <td>0.32</td>\n",
       "      <td>8.5</td>\n",
       "      <td>0.058</td>\n",
       "      <td>47.0</td>\n",
       "      <td>186.0</td>\n",
       "      <td>0.9956</td>\n",
       "      <td>3.19</td>\n",
       "      <td>0.40</td>\n",
       "      <td>9.9</td>\n",
       "    </tr>\n",
       "  </tbody>\n",
       "</table>\n",
       "</div>"
      ],
      "text/plain": [
       "   fixed acidity  volatile acidity  citric acid  residual sugar  chlorides  \\\n",
       "0            7.0              0.27         0.36            20.7      0.045   \n",
       "1            6.3              0.30         0.34             1.6      0.049   \n",
       "2            8.1              0.28         0.40             6.9      0.050   \n",
       "3            7.2              0.23         0.32             8.5      0.058   \n",
       "4            7.2              0.23         0.32             8.5      0.058   \n",
       "\n",
       "   free sulfur dioxide  total sulfur dioxide  density    pH  sulphates  \\\n",
       "0                 45.0                 170.0   1.0010  3.00       0.45   \n",
       "1                 14.0                 132.0   0.9940  3.30       0.49   \n",
       "2                 30.0                  97.0   0.9951  3.26       0.44   \n",
       "3                 47.0                 186.0   0.9956  3.19       0.40   \n",
       "4                 47.0                 186.0   0.9956  3.19       0.40   \n",
       "\n",
       "   alcohol  \n",
       "0      8.8  \n",
       "1      9.5  \n",
       "2     10.1  \n",
       "3      9.9  \n",
       "4      9.9  "
      ]
     },
     "execution_count": 3,
     "metadata": {},
     "output_type": "execute_result"
    }
   ],
   "source": [
    "X_df = df.iloc[:,:-1]\n",
    "X_df.head()"
   ]
  },
  {
   "cell_type": "code",
   "execution_count": 4,
   "metadata": {},
   "outputs": [
    {
     "name": "stdout",
     "output_type": "stream",
     "text": [
      "[6 6 6 6 6 6 6 6 6 6]\n"
     ]
    }
   ],
   "source": [
    "X = X_df.as_matrix()\n",
    "y_df = df[\"quality\"].values\n",
    "print(y_df[:10])"
   ]
  },
  {
   "cell_type": "markdown",
   "metadata": {},
   "source": [
    "### Data Preview"
   ]
  },
  {
   "cell_type": "code",
   "execution_count": 5,
   "metadata": {},
   "outputs": [
    {
     "data": {
      "image/png": "[encoded data removed]",
      "text/plain": [
       "<matplotlib.figure.Figure at 0x1a18a2f850>"
      ]
     },
     "metadata": {},
     "output_type": "display_data"
    }
   ],
   "source": [
    "plt.hist(y_df, range=(1, 10))\n",
    "\n",
    "plt.xlabel('Ratings of wines')\n",
    "plt.ylabel('Amount')\n",
    "plt.title('Distribution of wine ratings')\n",
    "plt.show()"
   ]
  },
  {
   "cell_type": "code",
   "execution_count": 6,
   "metadata": {
    "collapsed": true
   },
   "outputs": [],
   "source": [
    "# sklearn can only deal with numpy arrys\n",
    "Y = np.array([1 if i>=7 else 0 for i in y_df])\n"
   ]
  },
  {
   "cell_type": "markdown",
   "metadata": {},
   "source": [
    "### Random Forest Classifier Construction\n",
    "\n"
   ]
  },
  {
   "cell_type": "code",
   "execution_count": 7,
   "metadata": {
    "collapsed": true
   },
   "outputs": [],
   "source": [
    "#Split set into test and train\n",
    "# X_test=[]\n",
    "# X_train=[]\n",
    "# Y_test=[]\n",
    "# Y_train=[]\n",
    "\n",
    "# X_test=[X[i] for i in range(int(0.2*len(X)))]\n",
    "# X_train=[X[i] for i in range(int(0.2*len(X)),len(X))]\n",
    "# Y_test=[Y[i] for i in range(int(0.2*len(Y)))]\n",
    "# Y_train=[Y[i] for i in range(int(0.2*len(Y)),len(Y))]\n",
    "\n",
    "X_training, X_test, Y_training, Y_test = train_test_split(X, Y, test_size=0.2, random_state=20)\n",
    "X_train, X_val, Y_train, Y_val = train_test_split(X_training, Y_training, test_size=0.2, random_state=20)"
   ]
  },
  {
   "cell_type": "code",
   "execution_count": 8,
   "metadata": {},
   "outputs": [
    {
     "name": "stderr",
     "output_type": "stream",
     "text": [
      "/Users/tong/anaconda/lib/python2.7/site-packages/sklearn/utils/deprecation.py:77: DeprecationWarning: Function _ratio_float is deprecated; Use a float for 'ratio' is deprecated from version 0.2. The support will be removed in 0.4. Use a dict, str, or a callable instead.\n",
      "  warnings.warn(msg, category=DeprecationWarning)\n"
     ]
    }
   ],
   "source": [
    "sm = SMOTE(random_state=20, ratio = 1.0)\n",
    "x_train_res, y_train_res = sm.fit_sample(X_train, Y_train)"
   ]
  },
  {
   "cell_type": "code",
   "execution_count": 12,
   "metadata": {},
   "outputs": [
    {
     "name": "stdout",
     "output_type": "stream",
     "text": [
      "fold=1, #trees=1, score=0.7948, test_error=0.2342\n",
      "fold=1, #trees=2, score=0.7892, test_error=0.1718\n",
      "fold=1, #trees=3, score=0.8288, test_error=0.2157\n",
      "fold=1, #trees=4, score=0.8375, test_error=0.1462\n",
      "fold=1, #trees=5, score=0.8475, test_error=0.1820\n",
      "fold=1, #trees=6, score=0.8554, test_error=0.1544\n",
      "fold=1, #trees=7, score=0.8580, test_error=0.1748\n",
      "fold=1, #trees=8, score=0.8613, test_error=0.1452\n",
      "fold=1, #trees=9, score=0.8657, test_error=0.1636\n",
      "fold=1, #trees=10, score=0.8739, test_error=0.1544\n",
      "fold=1, #trees=11, score=0.8726, test_error=0.1667\n",
      "fold=1, #trees=12, score=0.8723, test_error=0.1544\n",
      "fold=1, #trees=13, score=0.8736, test_error=0.1554\n",
      "fold=1, #trees=14, score=0.8744, test_error=0.1493\n",
      "fold=1, #trees=15, score=0.8764, test_error=0.1656\n",
      "fold=1, #trees=16, score=0.8820, test_error=0.1421\n",
      "fold=1, #trees=17, score=0.8759, test_error=0.1513\n",
      "fold=1, #trees=18, score=0.8764, test_error=0.1503\n",
      "fold=1, #trees=19, score=0.8764, test_error=0.1513\n",
      "fold=1, #trees=20, score=0.8785, test_error=0.1462\n",
      "fold=2, #trees=1, score=0.7989, test_error=0.2620\n",
      "fold=2, #trees=2, score=0.7718, test_error=0.1904\n",
      "fold=2, #trees=3, score=0.8386, test_error=0.2180\n",
      "fold=2, #trees=4, score=0.8381, test_error=0.1556\n",
      "fold=2, #trees=5, score=0.8583, test_error=0.2037\n",
      "fold=2, #trees=6, score=0.8524, test_error=0.1699\n",
      "fold=2, #trees=7, score=0.8703, test_error=0.1720\n",
      "fold=2, #trees=8, score=0.8642, test_error=0.1453\n",
      "fold=2, #trees=9, score=0.8772, test_error=0.1781\n",
      "fold=2, #trees=10, score=0.8723, test_error=0.1679\n",
      "fold=2, #trees=11, score=0.8780, test_error=0.1791\n",
      "fold=2, #trees=12, score=0.8762, test_error=0.1566\n",
      "fold=2, #trees=13, score=0.8805, test_error=0.1873\n",
      "fold=2, #trees=14, score=0.8777, test_error=0.1576\n",
      "fold=2, #trees=15, score=0.8785, test_error=0.1586\n",
      "fold=2, #trees=16, score=0.8821, test_error=0.1627\n",
      "fold=2, #trees=17, score=0.8782, test_error=0.1709\n",
      "fold=2, #trees=18, score=0.8772, test_error=0.1617\n",
      "fold=2, #trees=19, score=0.8790, test_error=0.1740\n",
      "fold=2, #trees=20, score=0.8803, test_error=0.1627\n",
      "fold=3, #trees=1, score=0.7831, test_error=0.2108\n",
      "fold=3, #trees=2, score=0.7882, test_error=0.1679\n",
      "fold=3, #trees=3, score=0.8376, test_error=0.1945\n",
      "fold=3, #trees=4, score=0.8409, test_error=0.1525\n",
      "fold=3, #trees=5, score=0.8463, test_error=0.1771\n",
      "fold=3, #trees=6, score=0.8619, test_error=0.1443\n",
      "fold=3, #trees=7, score=0.8626, test_error=0.1638\n",
      "fold=3, #trees=8, score=0.8693, test_error=0.1566\n",
      "fold=3, #trees=9, score=0.8662, test_error=0.1597\n",
      "fold=3, #trees=10, score=0.8780, test_error=0.1484\n",
      "fold=3, #trees=11, score=0.8701, test_error=0.1515\n",
      "fold=3, #trees=12, score=0.8698, test_error=0.1474\n",
      "fold=3, #trees=13, score=0.8726, test_error=0.1576\n",
      "fold=3, #trees=14, score=0.8803, test_error=0.1402\n",
      "fold=3, #trees=15, score=0.8742, test_error=0.1535\n",
      "fold=3, #trees=16, score=0.8754, test_error=0.1535\n",
      "fold=3, #trees=17, score=0.8770, test_error=0.1586\n",
      "fold=3, #trees=18, score=0.8749, test_error=0.1484\n",
      "fold=3, #trees=19, score=0.8800, test_error=0.1515\n",
      "fold=3, #trees=20, score=0.8782, test_error=0.1535\n",
      "fold=4, #trees=1, score=0.7688, test_error=0.1894\n",
      "fold=4, #trees=2, score=0.7818, test_error=0.2989\n",
      "fold=4, #trees=3, score=0.8087, test_error=0.1771\n",
      "fold=4, #trees=4, score=0.8263, test_error=0.2375\n",
      "fold=4, #trees=5, score=0.8312, test_error=0.1453\n",
      "fold=4, #trees=6, score=0.8376, test_error=0.1791\n",
      "fold=4, #trees=7, score=0.8378, test_error=0.1218\n",
      "fold=4, #trees=8, score=0.8491, test_error=0.1535\n",
      "fold=4, #trees=9, score=0.8509, test_error=0.1157\n",
      "fold=4, #trees=10, score=0.8522, test_error=0.1474\n",
      "fold=4, #trees=11, score=0.8542, test_error=0.1075\n",
      "fold=4, #trees=12, score=0.8537, test_error=0.1392\n",
      "fold=4, #trees=13, score=0.8629, test_error=0.1126\n",
      "fold=4, #trees=14, score=0.8609, test_error=0.1361\n",
      "fold=4, #trees=15, score=0.8573, test_error=0.1105\n",
      "fold=4, #trees=16, score=0.8545, test_error=0.1198\n",
      "fold=4, #trees=17, score=0.8570, test_error=0.1187\n",
      "fold=4, #trees=18, score=0.8604, test_error=0.1249\n",
      "fold=4, #trees=19, score=0.8629, test_error=0.0952\n",
      "fold=4, #trees=20, score=0.8629, test_error=0.1157\n",
      "fold=5, #trees=1, score=0.7654, test_error=0.2088\n",
      "fold=5, #trees=2, score=0.7890, test_error=0.4053\n",
      "fold=5, #trees=3, score=0.8181, test_error=0.1607\n",
      "fold=5, #trees=4, score=0.8335, test_error=0.2569\n",
      "fold=5, #trees=5, score=0.8363, test_error=0.1883\n",
      "fold=5, #trees=6, score=0.8399, test_error=0.1934\n",
      "fold=5, #trees=7, score=0.8432, test_error=0.1505\n",
      "fold=5, #trees=8, score=0.8358, test_error=0.1832\n",
      "fold=5, #trees=9, score=0.8437, test_error=0.1300\n",
      "fold=5, #trees=10, score=0.8486, test_error=0.1617\n",
      "fold=5, #trees=11, score=0.8504, test_error=0.1136\n",
      "fold=5, #trees=12, score=0.8547, test_error=0.1546\n",
      "fold=5, #trees=13, score=0.8580, test_error=0.1198\n",
      "fold=5, #trees=14, score=0.8586, test_error=0.1433\n",
      "fold=5, #trees=15, score=0.8511, test_error=0.1146\n",
      "fold=5, #trees=16, score=0.8573, test_error=0.1310\n",
      "fold=5, #trees=17, score=0.8611, test_error=0.1075\n",
      "fold=5, #trees=18, score=0.8603, test_error=0.1238\n",
      "fold=5, #trees=19, score=0.8634, test_error=0.1064\n",
      "fold=5, #trees=20, score=0.8563, test_error=0.1208\n"
     ]
    }
   ],
   "source": [
    "#5-fold cross validation\n",
    "\n",
    "x=x_train_res\n",
    "y=y_train_res\n",
    "\n",
    "\n",
    "fold=1\n",
    "kf = KFold(n_splits=5)\n",
    "kf.get_n_splits(x)\n",
    "for train_index, test_index in kf.split(x):\n",
    "    x_trainset, x_testset = x[train_index], x[test_index]\n",
    "    y_trainset, y_testset = y[train_index], y[test_index]\n",
    "\n",
    "    #number of trees\n",
    "    for num_trees in range(1,21):\n",
    "        cv_scores=[]\n",
    "        score=0.0\n",
    "        \n",
    "        #internal loop\n",
    "        model = RandomForestClassifier(n_estimators = num_trees)\n",
    "        scores=cross_val_score(model, x_trainset, y_trainset, cv=5,scoring='accuracy')\n",
    "        \n",
    "        est_model=RandomForestClassifier(n_estimators = num_trees)\n",
    "        est_model.fit(x_trainset, y_trainset)\n",
    "        test_error=0.0\n",
    "        for n in range(len(x_testset)):\n",
    "            test_error+=(est_model.predict(x_testset[n].reshape(1,11))-y_testset[n])**2\n",
    "        test_error/=len(x_testset)\n",
    "        print ('fold=%d, #trees=%d, score=%.4f, test_error=%.4f')%(fold, num_trees, scores.mean(), test_error )\n",
    "    fold+=1\n"
   ]
  },
  {
   "cell_type": "code",
   "execution_count": 13,
   "metadata": {},
   "outputs": [
    {
     "name": "stdout",
     "output_type": "stream",
     "text": [
      "Validation Results\n",
      "Accuracy\n",
      "0.878826530612\n",
      "Recall\n",
      "0.588235294118\n",
      "\n",
      "Test Results\n",
      "Accuracy\n",
      "0.876530612245\n",
      "Recall\n",
      "0.522613065327\n"
     ]
    }
   ],
   "source": [
    "clf_rf = RandomForestClassifier(n_estimators=18, random_state=20)\n",
    "clf_rf.fit(X_train, Y_train)\n",
    "\n",
    "print ('Validation Results')\n",
    "print ('Accuracy')\n",
    "print (clf_rf.score(X_val, Y_val))\n",
    "print ('Recall')\n",
    "print (recall_score(Y_val, clf_rf.predict(X_val)))\n",
    "print ('\\nTest Results')\n",
    "print ('Accuracy')\n",
    "print (clf_rf.score(X_test, Y_test))\n",
    "print ('Recall')\n",
    "print (recall_score(Y_test, clf_rf.predict(X_test)))"
   ]
  },
  {
   "cell_type": "code",
   "execution_count": 14,
   "metadata": {},
   "outputs": [
    {
     "data": {
      "text/plain": [
       "[]"
      ]
     },
     "execution_count": 14,
     "metadata": {},
     "output_type": "execute_result"
    },
    {
     "data": {
      "image/png": "[encoded data removed]",
      "text/plain": [
       "<matplotlib.figure.Figure at 0x1a19133090>"
      ]
     },
     "metadata": {},
     "output_type": "display_data"
    }
   ],
   "source": [
    "#feature selection\n",
    "model=RandomForestClassifier(n_estimators=18)\n",
    "model.fit(X_train,Y_train)\n",
    "\n",
    "features = df.columns[0:12]\n",
    "importances = model.feature_importances_\n",
    "indices = np.argsort(importances)\n",
    " \n",
    "plt.figure(1)\n",
    "plt.title('Feature Importances')\n",
    "plt.barh(range(len(indices)), importances[indices], color='b', align='center')\n",
    "plt.yticks(range(len(indices)), features[indices])\n",
    "plt.xlabel('Relative Importance')\n",
    "plt.plot()"
   ]
  },
  {
   "cell_type": "code",
   "execution_count": 15,
   "metadata": {},
   "outputs": [
    {
     "name": "stdout",
     "output_type": "stream",
     "text": [
      "[6 6 6 6 6 6 6 6 6 6]\n"
     ]
    },
    {
     "name": "stderr",
     "output_type": "stream",
     "text": [
      "/Users/tong/anaconda/lib/python2.7/site-packages/sklearn/utils/deprecation.py:77: DeprecationWarning: Function _ratio_float is deprecated; Use a float for 'ratio' is deprecated from version 0.2. The support will be removed in 0.4. Use a dict, str, or a callable instead.\n",
      "  warnings.warn(msg, category=DeprecationWarning)\n"
     ]
    }
   ],
   "source": [
    "df = pd.read_csv(\"./dataset/winequality-white.csv\", sep=';')\n",
    "df.head()\n",
    "\n",
    "Selected_Features=df.columns[[1,2,3,4,5,6,7,8,9,10]]\n",
    "X_df = df[Selected_Features]\n",
    "X_df.head()\n",
    "X = X_df.as_matrix()\n",
    "\n",
    "y_df = df[\"quality\"].values\n",
    "print(y_df[:10]) \n",
    "Y = np.array([1 if i>=7 else 0 for i in y_df])\n",
    "\n",
    "\n",
    "X_training, X_test, Y_training, Y_test = train_test_split(X, Y, test_size=0.2, random_state=20)\n",
    "X_train, X_val, Y_train, Y_val = train_test_split(X_training, Y_training, test_size=0.2, random_state=20)\n",
    "\n",
    "sm = SMOTE(random_state=20, ratio = 1.0)\n",
    "x_train_res, y_train_res = sm.fit_sample(X_train, Y_train)"
   ]
  },
  {
   "cell_type": "code",
   "execution_count": 16,
   "metadata": {},
   "outputs": [
    {
     "name": "stdout",
     "output_type": "stream",
     "text": [
      "Validation Results\n",
      "Accuracy\n",
      "0.882653061224\n",
      "Recall\n",
      "0.576470588235\n",
      "\n",
      "Test Results\n",
      "Accuracy\n",
      "0.880612244898\n",
      "Recall\n",
      "0.532663316583\n"
     ]
    }
   ],
   "source": [
    "clf_rf = RandomForestClassifier(n_estimators=18, random_state=20)\n",
    "clf_rf.fit(X_train, Y_train)\n",
    "\n",
    "print ('Validation Results')\n",
    "print ('Accuracy')\n",
    "print (clf_rf.score(X_val, Y_val))\n",
    "print ('Recall')\n",
    "print (recall_score(Y_val, clf_rf.predict(X_val)))\n",
    "print ('\\nTest Results')\n",
    "print ('Accuracy')\n",
    "print (clf_rf.score(X_test, Y_test))\n",
    "print ('Recall')\n",
    "print (recall_score(Y_test, clf_rf.predict(X_test)))"
   ]
  },
  {
   "cell_type": "code",
   "execution_count": null,
   "metadata": {
    "collapsed": true
   },
   "outputs": [],
   "source": []
  }
 ],
 "metadata": {
  "kernelspec": {
   "display_name": "Python 2",
   "language": "python",
   "name": "python2"
  },
  "language_info": {
   "codemirror_mode": {
    "name": "ipython",
    "version": 2
   },
   "file_extension": ".py",
   "mimetype": "text/x-python",
   "name": "python",
   "nbconvert_exporter": "python",
   "pygments_lexer": "ipython2",
   "version": "2.7.13"
  }
 },
 "nbformat": 4,
 "nbformat_minor": 2
}
