{
 "cells": [
  {
   "cell_type": "code",
   "execution_count": 1,
   "metadata": {},
   "outputs": [],
   "source": [
    "import numpy as np\n",
    "import scipy as sp\n",
    "import pandas as pd\n",
    "import sklearn\n",
    "import seaborn as sns\n",
    "from matplotlib import pyplot as plt\n",
    "from sklearn.ensemble import RandomForestClassifier\n",
    "from sklearn.model_selection import cross_val_score\n",
    "from sklearn.model_selection import LeaveOneOut\n",
    "\n",
    "\n",
    "%matplotlib inline"
   ]
  },
  {
   "cell_type": "code",
   "execution_count": 2,
   "metadata": {
    "collapsed": true
   },
   "outputs": [],
   "source": [
    "#Load data\n",
    "names=['fixed acidity','volatile acidity','citric acid','residual sugar','chlorides','free sulfur dioxide',\n",
    "       'total sulfur dioxide','density','pH','sulphates','alcohol','quality']\n",
    "df = pd.read_csv(\"winequality-red.csv\", sep=';',names=names)"
   ]
  },
  {
   "cell_type": "code",
   "execution_count": 3,
   "metadata": {
    "collapsed": true
   },
   "outputs": [],
   "source": [
    "#Extract x\n",
    "X_df = df.iloc[:,:-1]\n",
    "X = X_df.as_matrix()"
   ]
  },
  {
   "cell_type": "code",
   "execution_count": 4,
   "metadata": {},
   "outputs": [
    {
     "data": {
      "image/png": "[encoded data removed]",
      "text/plain": [
       "<matplotlib.figure.Figure at 0x11a52b310>"
      ]
     },
     "metadata": {},
     "output_type": "display_data"
    }
   ],
   "source": [
    "y_df = df['quality'].values\n",
    "plt.hist(y_df, range=(1, 10))\n",
    "plt.xlabel('Ratings of wines')\n",
    "plt.ylabel('Amount')\n",
    "plt.title('Distribution of wine ratings')\n",
    "plt.show()"
   ]
  },
  {
   "cell_type": "code",
   "execution_count": 5,
   "metadata": {
    "collapsed": true
   },
   "outputs": [],
   "source": [
    "#make y value binary, threshold=7\n",
    "Y = np.array([1 if i>=7 else 0 for i in y_df])"
   ]
  },
  {
   "cell_type": "code",
   "execution_count": 6,
   "metadata": {
    "collapsed": true
   },
   "outputs": [],
   "source": [
    "#Split set into test and train\n",
    "X_test=[]\n",
    "X_train=[]\n",
    "Y_test=[]\n",
    "Y_train=[]\n",
    "\n",
    "X_test=[X[i] for i in range(int(0.2*len(X)))]\n",
    "X_train=[X[i] for i in range(int(0.2*len(X)),len(X))]\n",
    "Y_test=[Y[i] for i in range(int(0.2*len(Y)))]\n",
    "Y_train=[Y[i] for i in range(int(0.2*len(Y)),len(Y))]"
   ]
  },
  {
   "cell_type": "code",
   "execution_count": null,
   "metadata": {},
   "outputs": [],
   "source": [
    "loo=LeaveOneOut()\n",
    "loo.get_n_splits(Y_train)\n",
    "cv_scores=[]\n",
    "\n",
    "\n",
    "for num_trees in range(1,21):\n",
    "    model = RandomForestClassifier(n_estimators = num_trees)\n",
    "    scores=cross_val_score(model, X_train, Y_train, cv=loo,scoring='accuracy')\n",
    "    cv_scores.append(scores.mean())\n",
    "    \n",
    "MSE = [1 - x for x in cv_scores]\n",
    "\n",
    "print (\"index          Score          MSE\")\n",
    "for i in range(len(cv_scores)):\n",
    "    print '%d          %.5f          %.5f'% (i, cv_scores[i],MSE[i])\n",
    "    "
   ]
  },
  {
   "cell_type": "code",
   "execution_count": 51,
   "metadata": {},
   "outputs": [
    {
     "data": {
      "text/plain": [
       "<matplotlib.text.Text at 0x11da7b850>"
      ]
     },
     "execution_count": 51,
     "metadata": {},
     "output_type": "execute_result"
    },
    {
     "data": {
      "image/png": "[encoded data removed]",
      "text/plain": [
       "<matplotlib.figure.Figure at 0x11da8c790>"
      ]
     },
     "metadata": {},
     "output_type": "display_data"
    }
   ],
   "source": [
    "#feature selection\n",
    "model=RandomForestClassifier(n_estimators=12)\n",
    "model.fit(X_train,Y_train)\n",
    "\n",
    "features = df.columns[0:12]\n",
    "importances = model.feature_importances_\n",
    "indices = np.argsort(importances)\n",
    " \n",
    "plt.figure(1)\n",
    "plt.title('Feature Importances')\n",
    "plt.barh(range(len(indices)), importances[indices], color='b', align='center')\n",
    "plt.yticks(range(len(indices)), features[indices])\n",
    "plt.xlabel('Relative Importance')\n"
   ]
  },
  {
   "cell_type": "code",
   "execution_count": 47,
   "metadata": {},
   "outputs": [
    {
     "name": "stdout",
     "output_type": "stream",
     "text": [
      "Index([u'fixed acidity', u'volatile acidity', u'citric acid',\n",
      "       u'residual sugar', u'chlorides', u'free sulfur dioxide',\n",
      "       u'total sulfur dioxide', u'density', u'pH', u'sulphates', u'alcohol',\n",
      "       u'quality'],\n",
      "      dtype='object')\n",
      "\n",
      "The accuracy of OUR classifier is 93%\n",
      "\n",
      "The accuracy of OUR classifier is 92%\n",
      "\n",
      "The accuracy of OUR classifier is 94%\n",
      "\n",
      "The accuracy of OUR classifier is 93%\n",
      "\n",
      "The accuracy of OUR classifier is 93%\n"
     ]
    }
   ],
   "source": [
    "print df.columns\n",
    "new_features=[df.columns[[0,1,2,3,4,5,6,7,8,9,10,11]],df.columns[[0,1,2,3,4,6,7,8,9,10,11]],df.columns[[0,1,2,4,6,7,8,9,10,11]],\n",
    "              df.columns[[1,2,4,6,7,8,9,10,11]],df.columns[[1,2,4,6,7,9,10]]]\n",
    "for features in new_features:\n",
    "    X_df1 = df[features]\n",
    "    X1 = X_df1.as_matrix()\n",
    "    y_df1 = df['quality'].values\n",
    "    Y1 = np.array([1 if i>=7 else 0 for i in y_df1])\n",
    "    #Split set into test and train\n",
    "    X_test1=[]\n",
    "    X_train1=[]\n",
    "    Y_test1=[]\n",
    "    Y_train1=[]\n",
    "\n",
    "    X_test1=[X[i] for i in range(int(0.2*len(X1)))]\n",
    "    X_train1=[X[i] for i in range(int(0.2*len(X1)),len(X1))]\n",
    "    Y_test1=[Y[i] for i in range(int(0.2*len(Y1)))]\n",
    "    Y_train1=[Y[i] for i in range(int(0.2*len(Y1)),len(Y1))]\n",
    "    \n",
    "    model_test=RandomForestClassifier(n_estimators=12)\n",
    "    model_test.fit(X_train1,Y_train1)\n",
    "    scores=[]\n",
    "    scores.append(model_test.score(X_test1, Y_test1))\n",
    "    print('\\nThe accuracy of OUR classifier is %d%%' % (float(scores[0])*100))"
   ]
  },
  {
   "cell_type": "code",
   "execution_count": null,
   "metadata": {
    "collapsed": true
   },
   "outputs": [],
   "source": []
  },
  {
   "cell_type": "code",
   "execution_count": null,
   "metadata": {
    "collapsed": true
   },
   "outputs": [],
   "source": []
  }
 ],
 "metadata": {
  "kernelspec": {
   "display_name": "Python 2",
   "language": "python",
   "name": "python2"
  },
  "language_info": {
   "codemirror_mode": {
    "name": "ipython",
    "version": 2
   },
   "file_extension": ".py",
   "mimetype": "text/x-python",
   "name": "python",
   "nbconvert_exporter": "python",
   "pygments_lexer": "ipython2",
   "version": "2.7.13"
  }
 },
 "nbformat": 4,
 "nbformat_minor": 2
}
