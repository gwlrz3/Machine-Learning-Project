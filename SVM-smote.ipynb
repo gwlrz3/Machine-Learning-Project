{
 "cells": [
  {
   "cell_type": "markdown",
   "metadata": {},
   "source": [
    "### Import Library"
   ]
  },
  {
   "cell_type": "code",
   "execution_count": null,
   "metadata": {},
   "outputs": [],
   "source": [
    "import numpy as np\n",
    "import scipy as sp\n",
    "import pandas as pd\n",
    "import sklearn\n",
    "import seaborn as sns\n",
    "from matplotlib import pyplot as plt\n",
    "from sklearn import svm\n",
    "from sklearn import datasets\n",
    "from sklearn.model_selection import LeaveOneOut\n",
    "from sklearn.model_selection import cross_val_score\n",
    "from imblearn.over_sampling import SMOTE\n",
    "from sklearn.model_selection import train_test_split\n",
    "from sklearn.metrics import recall_score\n",
    "from sklearn.metrics import confusion_matrix\n",
    "from sklearn.metrics import precision_score\n",
    "from sklearn.metrics import f1_score\n",
    "from sklearn.metrics import accuracy_score\n",
    "from sklearn.model_selection import KFold\n",
    "from sklearn.neighbors import KNeighborsRegressor\n",
    "%matplotlib inline"
   ]
  },
  {
   "cell_type": "markdown",
   "metadata": {},
   "source": [
    "### Load Data"
   ]
  },
  {
   "cell_type": "code",
   "execution_count": null,
   "metadata": {},
   "outputs": [],
   "source": [
    "df = pd.read_csv(\"./data/winequality-white.csv\", sep=';')\n",
    "df.head()"
   ]
  },
  {
   "cell_type": "markdown",
   "metadata": {},
   "source": [
    "Separate the dataset into **feature matrix X** and **respoinse vector Y**."
   ]
  },
  {
   "cell_type": "code",
   "execution_count": null,
   "metadata": {},
   "outputs": [],
   "source": [
    "X_df = df.iloc[:,:-1]\n",
    "X_df.head()"
   ]
  },
  {
   "cell_type": "code",
   "execution_count": null,
   "metadata": {
    "collapsed": true
   },
   "outputs": [],
   "source": [
    "X = X_df.as_matrix()\n",
    "y_df = df[\"quality\"].values"
   ]
  },
  {
   "cell_type": "markdown",
   "metadata": {},
   "source": [
    "### Data Preview"
   ]
  },
  {
   "cell_type": "code",
   "execution_count": null,
   "metadata": {},
   "outputs": [],
   "source": [
    "plt.hist(y_df, range=(1, 10))\n",
    "plt.xlabel('Ratings of wines')\n",
    "plt.ylabel('Amount')\n",
    "plt.title('Distribution of wine ratings')\n",
    "plt.savefig('data_hist.png', format = 'png', dpi = 1000)\n",
    "plt.show()"
   ]
  },
  {
   "cell_type": "code",
   "execution_count": null,
   "metadata": {},
   "outputs": [],
   "source": [
    "# sklearn can only deal with numpy arrys\n",
    "Y = np.array([1 if i>=7 else 0 for i in y_df])\n",
    "good_ratio = sum(Y) / len(Y)\n",
    "bad_ratio = 1 - good_ratio\n",
    "print('Ratio of good wine: ', good_ratio)\n",
    "print('Ratio of bad wine: ', bad_ratio)"
   ]
  },
  {
   "cell_type": "markdown",
   "metadata": {},
   "source": [
    "### SVM Classifier Construction\n",
    "\n",
    "Choose SVM method to do the classification."
   ]
  },
  {
   "cell_type": "markdown",
   "metadata": {},
   "source": [
    "#### Over sampling training data using SMOTE "
   ]
  },
  {
   "cell_type": "code",
   "execution_count": null,
   "metadata": {
    "collapsed": true
   },
   "outputs": [],
   "source": [
    "#Split set into test and train\n",
    "X_training, X_test, Y_training, Y_test = train_test_split(X, Y, test_size=0.2, random_state=20)\n",
    "X_train, X_val, Y_train, Y_val = train_test_split(X_training, Y_training, test_size=0.2, random_state=20)"
   ]
  },
  {
   "cell_type": "code",
   "execution_count": null,
   "metadata": {},
   "outputs": [],
   "source": [
    "sm = SMOTE(random_state=20, ratio = 1.0)\n",
    "x_train_res, y_train_res = sm.fit_sample(X_train, Y_train)"
   ]
  },
  {
   "cell_type": "markdown",
   "metadata": {},
   "source": [
    "#### Using different kernals"
   ]
  },
  {
   "cell_type": "code",
   "execution_count": null,
   "metadata": {
    "collapsed": true
   },
   "outputs": [],
   "source": [
    "cv_scores=[]\n",
    "C=1.0\n",
    "\n",
    "models = (\n",
    "          svm.SVC(kernel='linear', C=C),\n",
    "          svm.SVC(kernel='rbf', gamma=0.7, C=C),\n",
    "          svm.SVC(kernel='rbf', gamma=1, C=C),\n",
    "          svm.SVC(kernel='rbf', gamma=10, C=C),\n",
    "          svm.SVC(kernel='poly', degree=2, C=C),\n",
    "          svm.SVC(kernel='poly', degree=3, C=C))\n",
    "\n",
    "for m in models:\n",
    "    scores = cross_val_score(m, x_train_res, y_train_res, cv=5, scoring='accuracy')\n",
    "    cv_scores.append(scores.mean())\n",
    "    \n",
    "print (\"index          Score          MSE\")\n",
    "for i in range(len(models)):\n",
    "    print ('%d          %.5f' % (i, cv_scores[i]))"
   ]
  },
  {
   "cell_type": "markdown",
   "metadata": {},
   "source": [
    "#### Double-Resampling ( 5-fold + Leave-one-out)"
   ]
  },
  {
   "cell_type": "code",
   "execution_count": null,
   "metadata": {},
   "outputs": [],
   "source": [
    "C = 1\n",
    "models = (\n",
    "          svm.SVC(kernel='rbf', gamma=0.2, C=C),\n",
    "          svm.SVC(kernel='rbf', gamma=0.4, C=C),\n",
    "          svm.SVC(kernel='rbf', gamma=0.6, C=C),\n",
    "          svm.SVC(kernel='rbf', gamma=0.8, C=C),\n",
    "          svm.SVC(kernel='rbf', gamma=1, C=C),\n",
    "          svm.SVC(kernel='rbf', gamma=2, C=C))\n",
    "fold=1\n",
    "kf = KFold(n_splits=5)\n",
    "kf.get_n_splits(x_train_res)\n",
    "for train_index, test_index in kf.split(x_train_res):\n",
    "    x_trainset, x_testset = x_train_res[train_index], x_train_res[test_index]\n",
    "    y_trainset, y_testset = y_train_res[train_index], y_train_res[test_index]\n",
    "    gamma = 0.2\n",
    "    #number of trees\n",
    "    for train_index, test_index in loo.split(train):\n",
    "        x_train, x_test = x_trainset[train_index], x_trainset[test_index]\n",
    "        y_train, y_test = y_testset[train_index], y_testset[test_index]\n",
    "        for m in models:\n",
    "            cv_scores=[]\n",
    "            score=0.0\n",
    "\n",
    "            #internal loop\n",
    "            scores=cross_val_score(m, x_train, y_train, cv=5,scoring='accuracy')\n",
    "\n",
    "            est_model=m\n",
    "            est_model.fit(x_trainset, y_trainset)\n",
    "            test_error=0.0\n",
    "            for n in range(len(x_testset)):\n",
    "                test_error+=(est_model.predict(x_testset[n].reshape(1,11))-y_testset[n])**2\n",
    "            test_error/=len(x_testset)\n",
    "            if gamma == 1.2:\n",
    "                gamma = 2\n",
    "            print (('fold=%d, #gamma=%.1f, score=%.4f, test_error=%.4f')%(fold, gamma, scores.mean(), test_error))\n",
    "            gamma += 0.2\n",
    "    fold+=1"
   ]
  },
  {
   "cell_type": "code",
   "execution_count": null,
   "metadata": {},
   "outputs": [],
   "source": [
    "clf_rf = svm.SVC(kernel='rbf', gamma=0.7, C=1)\n",
    "clf_rf.fit(X_train, Y_train)\n",
    "\n",
    "print ('Validation Results')\n",
    "print ('confusion matrix')\n",
    "print (confusion_matrix(Y_val, clf_rf.predict(X_val)))\n",
    "print (\"accuracy         recall        precision      f1_score\")\n",
    "print (accuracy_score(Y_val, clf_rf.predict(X_val)),\\\n",
    "       recall_score(Y_val, clf_rf.predict(X_val)),\\\n",
    "       precision_score(Y_val, clf_rf.predict(X_val)),\\\n",
    "      f1_score(Y_val, clf_rf.predict(X_val)))\n",
    "print ('\\nTest Results')\n",
    "print ('confusion matrix')\n",
    "print (confusion_matrix(Y_test, clf_rf.predict(X_test)))\n",
    "print (\"accuracy         recall        precision      f1_score\")\n",
    "print (accuracy_score(Y_test, clf_rf.predict(X_test)),\\\n",
    "      recall_score(Y_test, clf_rf.predict(X_test)),\\\n",
    "       precision_score(Y_test, clf_rf.predict(X_test)),\\\n",
    "      f1_score(Y_test, clf_rf.predict(X_test)))"
   ]
  }
 ],
 "metadata": {
  "kernelspec": {
   "display_name": "Python 3",
   "language": "python",
   "name": "python3"
  },
  "language_info": {
   "codemirror_mode": {
    "name": "ipython",
    "version": 3
   },
   "file_extension": ".py",
   "mimetype": "text/x-python",
   "name": "python",
   "nbconvert_exporter": "python",
   "pygments_lexer": "ipython3",
   "version": "3.6.1"
  }
 },
 "nbformat": 4,
 "nbformat_minor": 2
}
