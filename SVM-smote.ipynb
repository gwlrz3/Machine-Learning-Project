{
 "cells": [
  {
   "cell_type": "markdown",
   "metadata": {},
   "source": [
    "### Import Library"
   ]
  },
  {
   "cell_type": "code",
   "execution_count": 16,
   "metadata": {
    "collapsed": true
   },
   "outputs": [],
   "source": [
    "import numpy as np\n",
    "import scipy as sp\n",
    "import pandas as pd\n",
    "import sklearn\n",
    "import seaborn as sns\n",
    "from matplotlib import pyplot as plt\n",
    "from sklearn import svm\n",
    "from sklearn import datasets\n",
    "from sklearn.model_selection import LeaveOneOut\n",
    "from sklearn.model_selection import cross_val_score\n",
    "from imblearn.over_sampling import SMOTE\n",
    "from sklearn.model_selection import train_test_split\n",
    "from sklearn.metrics import recall_score\n",
    "from sklearn.metrics import confusion_matrix\n",
    "from sklearn.metrics import precision_score\n",
    "from sklearn.metrics import f1_score\n",
    "from sklearn.metrics import accuracy_score\n",
    "%matplotlib inline"
   ]
  },
  {
   "cell_type": "markdown",
   "metadata": {},
   "source": [
    "### Load Data"
   ]
  },
  {
   "cell_type": "code",
   "execution_count": 2,
   "metadata": {},
   "outputs": [
    {
     "data": {
      "text/html": [
       "<div>\n",
       "<style>\n",
       "    .dataframe thead tr:only-child th {\n",
       "        text-align: right;\n",
       "    }\n",
       "\n",
       "    .dataframe thead th {\n",
       "        text-align: left;\n",
       "    }\n",
       "\n",
       "    .dataframe tbody tr th {\n",
       "        vertical-align: top;\n",
       "    }\n",
       "</style>\n",
       "<table border=\"1\" class=\"dataframe\">\n",
       "  <thead>\n",
       "    <tr style=\"text-align: right;\">\n",
       "      <th></th>\n",
       "      <th>fixed acidity</th>\n",
       "      <th>volatile acidity</th>\n",
       "      <th>citric acid</th>\n",
       "      <th>residual sugar</th>\n",
       "      <th>chlorides</th>\n",
       "      <th>free sulfur dioxide</th>\n",
       "      <th>total sulfur dioxide</th>\n",
       "      <th>density</th>\n",
       "      <th>pH</th>\n",
       "      <th>sulphates</th>\n",
       "      <th>alcohol</th>\n",
       "      <th>quality</th>\n",
       "    </tr>\n",
       "  </thead>\n",
       "  <tbody>\n",
       "    <tr>\n",
       "      <th>0</th>\n",
       "      <td>7.0</td>\n",
       "      <td>0.27</td>\n",
       "      <td>0.36</td>\n",
       "      <td>20.7</td>\n",
       "      <td>0.045</td>\n",
       "      <td>45.0</td>\n",
       "      <td>170.0</td>\n",
       "      <td>1.0010</td>\n",
       "      <td>3.00</td>\n",
       "      <td>0.45</td>\n",
       "      <td>8.8</td>\n",
       "      <td>6</td>\n",
       "    </tr>\n",
       "    <tr>\n",
       "      <th>1</th>\n",
       "      <td>6.3</td>\n",
       "      <td>0.30</td>\n",
       "      <td>0.34</td>\n",
       "      <td>1.6</td>\n",
       "      <td>0.049</td>\n",
       "      <td>14.0</td>\n",
       "      <td>132.0</td>\n",
       "      <td>0.9940</td>\n",
       "      <td>3.30</td>\n",
       "      <td>0.49</td>\n",
       "      <td>9.5</td>\n",
       "      <td>6</td>\n",
       "    </tr>\n",
       "    <tr>\n",
       "      <th>2</th>\n",
       "      <td>8.1</td>\n",
       "      <td>0.28</td>\n",
       "      <td>0.40</td>\n",
       "      <td>6.9</td>\n",
       "      <td>0.050</td>\n",
       "      <td>30.0</td>\n",
       "      <td>97.0</td>\n",
       "      <td>0.9951</td>\n",
       "      <td>3.26</td>\n",
       "      <td>0.44</td>\n",
       "      <td>10.1</td>\n",
       "      <td>6</td>\n",
       "    </tr>\n",
       "    <tr>\n",
       "      <th>3</th>\n",
       "      <td>7.2</td>\n",
       "      <td>0.23</td>\n",
       "      <td>0.32</td>\n",
       "      <td>8.5</td>\n",
       "      <td>0.058</td>\n",
       "      <td>47.0</td>\n",
       "      <td>186.0</td>\n",
       "      <td>0.9956</td>\n",
       "      <td>3.19</td>\n",
       "      <td>0.40</td>\n",
       "      <td>9.9</td>\n",
       "      <td>6</td>\n",
       "    </tr>\n",
       "    <tr>\n",
       "      <th>4</th>\n",
       "      <td>7.2</td>\n",
       "      <td>0.23</td>\n",
       "      <td>0.32</td>\n",
       "      <td>8.5</td>\n",
       "      <td>0.058</td>\n",
       "      <td>47.0</td>\n",
       "      <td>186.0</td>\n",
       "      <td>0.9956</td>\n",
       "      <td>3.19</td>\n",
       "      <td>0.40</td>\n",
       "      <td>9.9</td>\n",
       "      <td>6</td>\n",
       "    </tr>\n",
       "  </tbody>\n",
       "</table>\n",
       "</div>"
      ],
      "text/plain": [
       "   fixed acidity  volatile acidity  citric acid  residual sugar  chlorides  \\\n",
       "0            7.0              0.27         0.36            20.7      0.045   \n",
       "1            6.3              0.30         0.34             1.6      0.049   \n",
       "2            8.1              0.28         0.40             6.9      0.050   \n",
       "3            7.2              0.23         0.32             8.5      0.058   \n",
       "4            7.2              0.23         0.32             8.5      0.058   \n",
       "\n",
       "   free sulfur dioxide  total sulfur dioxide  density    pH  sulphates  \\\n",
       "0                 45.0                 170.0   1.0010  3.00       0.45   \n",
       "1                 14.0                 132.0   0.9940  3.30       0.49   \n",
       "2                 30.0                  97.0   0.9951  3.26       0.44   \n",
       "3                 47.0                 186.0   0.9956  3.19       0.40   \n",
       "4                 47.0                 186.0   0.9956  3.19       0.40   \n",
       "\n",
       "   alcohol  quality  \n",
       "0      8.8        6  \n",
       "1      9.5        6  \n",
       "2     10.1        6  \n",
       "3      9.9        6  \n",
       "4      9.9        6  "
      ]
     },
     "execution_count": 2,
     "metadata": {},
     "output_type": "execute_result"
    }
   ],
   "source": [
    "df = pd.read_csv(\"./data/winequality-white.csv\", sep=';')\n",
    "df.head()"
   ]
  },
  {
   "cell_type": "markdown",
   "metadata": {},
   "source": [
    "Separate the dataset into **feature matrix X** & **respoinse vector y**."
   ]
  },
  {
   "cell_type": "code",
   "execution_count": 3,
   "metadata": {},
   "outputs": [
    {
     "data": {
      "text/html": [
       "<div>\n",
       "<style>\n",
       "    .dataframe thead tr:only-child th {\n",
       "        text-align: right;\n",
       "    }\n",
       "\n",
       "    .dataframe thead th {\n",
       "        text-align: left;\n",
       "    }\n",
       "\n",
       "    .dataframe tbody tr th {\n",
       "        vertical-align: top;\n",
       "    }\n",
       "</style>\n",
       "<table border=\"1\" class=\"dataframe\">\n",
       "  <thead>\n",
       "    <tr style=\"text-align: right;\">\n",
       "      <th></th>\n",
       "      <th>fixed acidity</th>\n",
       "      <th>volatile acidity</th>\n",
       "      <th>citric acid</th>\n",
       "      <th>residual sugar</th>\n",
       "      <th>chlorides</th>\n",
       "      <th>free sulfur dioxide</th>\n",
       "      <th>total sulfur dioxide</th>\n",
       "      <th>density</th>\n",
       "      <th>pH</th>\n",
       "      <th>sulphates</th>\n",
       "      <th>alcohol</th>\n",
       "    </tr>\n",
       "  </thead>\n",
       "  <tbody>\n",
       "    <tr>\n",
       "      <th>0</th>\n",
       "      <td>7.0</td>\n",
       "      <td>0.27</td>\n",
       "      <td>0.36</td>\n",
       "      <td>20.7</td>\n",
       "      <td>0.045</td>\n",
       "      <td>45.0</td>\n",
       "      <td>170.0</td>\n",
       "      <td>1.0010</td>\n",
       "      <td>3.00</td>\n",
       "      <td>0.45</td>\n",
       "      <td>8.8</td>\n",
       "    </tr>\n",
       "    <tr>\n",
       "      <th>1</th>\n",
       "      <td>6.3</td>\n",
       "      <td>0.30</td>\n",
       "      <td>0.34</td>\n",
       "      <td>1.6</td>\n",
       "      <td>0.049</td>\n",
       "      <td>14.0</td>\n",
       "      <td>132.0</td>\n",
       "      <td>0.9940</td>\n",
       "      <td>3.30</td>\n",
       "      <td>0.49</td>\n",
       "      <td>9.5</td>\n",
       "    </tr>\n",
       "    <tr>\n",
       "      <th>2</th>\n",
       "      <td>8.1</td>\n",
       "      <td>0.28</td>\n",
       "      <td>0.40</td>\n",
       "      <td>6.9</td>\n",
       "      <td>0.050</td>\n",
       "      <td>30.0</td>\n",
       "      <td>97.0</td>\n",
       "      <td>0.9951</td>\n",
       "      <td>3.26</td>\n",
       "      <td>0.44</td>\n",
       "      <td>10.1</td>\n",
       "    </tr>\n",
       "    <tr>\n",
       "      <th>3</th>\n",
       "      <td>7.2</td>\n",
       "      <td>0.23</td>\n",
       "      <td>0.32</td>\n",
       "      <td>8.5</td>\n",
       "      <td>0.058</td>\n",
       "      <td>47.0</td>\n",
       "      <td>186.0</td>\n",
       "      <td>0.9956</td>\n",
       "      <td>3.19</td>\n",
       "      <td>0.40</td>\n",
       "      <td>9.9</td>\n",
       "    </tr>\n",
       "    <tr>\n",
       "      <th>4</th>\n",
       "      <td>7.2</td>\n",
       "      <td>0.23</td>\n",
       "      <td>0.32</td>\n",
       "      <td>8.5</td>\n",
       "      <td>0.058</td>\n",
       "      <td>47.0</td>\n",
       "      <td>186.0</td>\n",
       "      <td>0.9956</td>\n",
       "      <td>3.19</td>\n",
       "      <td>0.40</td>\n",
       "      <td>9.9</td>\n",
       "    </tr>\n",
       "  </tbody>\n",
       "</table>\n",
       "</div>"
      ],
      "text/plain": [
       "   fixed acidity  volatile acidity  citric acid  residual sugar  chlorides  \\\n",
       "0            7.0              0.27         0.36            20.7      0.045   \n",
       "1            6.3              0.30         0.34             1.6      0.049   \n",
       "2            8.1              0.28         0.40             6.9      0.050   \n",
       "3            7.2              0.23         0.32             8.5      0.058   \n",
       "4            7.2              0.23         0.32             8.5      0.058   \n",
       "\n",
       "   free sulfur dioxide  total sulfur dioxide  density    pH  sulphates  \\\n",
       "0                 45.0                 170.0   1.0010  3.00       0.45   \n",
       "1                 14.0                 132.0   0.9940  3.30       0.49   \n",
       "2                 30.0                  97.0   0.9951  3.26       0.44   \n",
       "3                 47.0                 186.0   0.9956  3.19       0.40   \n",
       "4                 47.0                 186.0   0.9956  3.19       0.40   \n",
       "\n",
       "   alcohol  \n",
       "0      8.8  \n",
       "1      9.5  \n",
       "2     10.1  \n",
       "3      9.9  \n",
       "4      9.9  "
      ]
     },
     "execution_count": 3,
     "metadata": {},
     "output_type": "execute_result"
    }
   ],
   "source": [
    "X_df = df.iloc[:,:-1]\n",
    "X_df.head()"
   ]
  },
  {
   "cell_type": "code",
   "execution_count": 4,
   "metadata": {
    "collapsed": true
   },
   "outputs": [],
   "source": [
    "X = X_df.as_matrix()\n",
    "y_df = df[\"quality\"].values"
   ]
  },
  {
   "cell_type": "markdown",
   "metadata": {},
   "source": [
    "### Data Preview"
   ]
  },
  {
   "cell_type": "code",
   "execution_count": 5,
   "metadata": {},
   "outputs": [
    {
     "data": {
      "image/png": "[encoded data removed]",
      "text/plain": [
       "<matplotlib.figure.Figure at 0x117a26780>"
      ]
     },
     "metadata": {},
     "output_type": "display_data"
    }
   ],
   "source": [
    "plt.hist(y_df, range=(1, 10))\n",
    "\n",
    "plt.xlabel('Ratings of wines')\n",
    "plt.ylabel('Amount')\n",
    "plt.title('Distribution of wine ratings')\n",
    "plt.savefig('data_hist.png', format = 'png', dpi = 1000)\n",
    "plt.show()"
   ]
  },
  {
   "cell_type": "code",
   "execution_count": 6,
   "metadata": {},
   "outputs": [
    {
     "name": "stdout",
     "output_type": "stream",
     "text": [
      "Ratio of good wine:  0.216414863209\n",
      "Ratio of bad wine:  0.783585136791\n"
     ]
    }
   ],
   "source": [
    "# sklearn can only deal with numpy arrys\n",
    "Y = np.array([1 if i>=7 else 0 for i in y_df])\n",
    "good_ratio = sum(Y) / len(Y)\n",
    "bad_ratio = 1 - good_ratio\n",
    "print('Ratio of good wine: ', good_ratio)\n",
    "print('Ratio of bad wine: ', bad_ratio)"
   ]
  },
  {
   "cell_type": "markdown",
   "metadata": {},
   "source": [
    "### SVM Classifier Construction\n",
    "\n",
    "Choose SVM method to do the classification."
   ]
  },
  {
   "cell_type": "code",
   "execution_count": 7,
   "metadata": {
    "collapsed": true
   },
   "outputs": [],
   "source": [
    "#Split set into test and train\n",
    "X_training, X_test, Y_training, Y_test = train_test_split(X, Y, test_size=0.2, random_state=20)\n",
    "X_train, X_val, Y_train, Y_val = train_test_split(X_training, Y_training, test_size=0.2, random_state=20)"
   ]
  },
  {
   "cell_type": "code",
   "execution_count": 8,
   "metadata": {},
   "outputs": [
    {
     "name": "stderr",
     "output_type": "stream",
     "text": [
      "/anaconda/lib/python3.6/site-packages/sklearn/utils/deprecation.py:75: DeprecationWarning: Function _ratio_float is deprecated; Use a float for 'ratio' is deprecated from version 0.2. The support will be removed in 0.4. Use a dict, str, or a callable instead.\n",
      "  warnings.warn(msg, category=DeprecationWarning)\n"
     ]
    }
   ],
   "source": [
    "sm = SMOTE(random_state=20, ratio = 1.0)\n",
    "x_train_res, y_train_res = sm.fit_sample(X_train, Y_train)"
   ]
  },
  {
   "cell_type": "code",
   "execution_count": 11,
   "metadata": {},
   "outputs": [
    {
     "name": "stdout",
     "output_type": "stream",
     "text": [
      "index          Score          MSE\n",
      "0          0.74706\n",
      "1          0.90688\n",
      "2          0.89521\n",
      "3          0.76049\n",
      "4          0.76179\n"
     ]
    }
   ],
   "source": [
    "cv_scores=[]\n",
    "C=1.0\n",
    "\n",
    "models = [\n",
    "          svm.SVC(kernel='linear', C=C),\n",
    "          svm.SVC(kernel='rbf', gamma=0.7, C=C),\n",
    "          svm.SVC(kernel='rbf', gamma=1, C=C),\n",
    "          svm.SVC(kernel='rbf', gamma=10, C=C),\n",
    "          svm.SVC(kernel='poly', degree=2, C=C)]\n",
    "#           svm.SVC(kernel='poly', degree=3, C=C),\n",
    "#           svm.SVC(kernel='poly', degree=4, C=C))\n",
    "\n",
    "for m in models:\n",
    "    scores = cross_val_score(m, x_train_res, y_train_res, cv=10, scoring='accuracy')\n",
    "    cv_scores.append(scores.mean())\n",
    "    \n",
    "print (\"index          Score          MSE\")\n",
    "for i in range(len(models)):\n",
    "    print ('%d          %.5f' % (i, cv_scores[i]))"
   ]
  },
  {
   "cell_type": "code",
   "execution_count": 21,
   "metadata": {},
   "outputs": [
    {
     "name": "stdout",
     "output_type": "stream",
     "text": [
      "index          Score          MSE\n",
      "0          0.91507\n",
      "1          0.90688\n",
      "2          0.90013\n",
      "3          0.89521\n",
      "4          0.88846\n",
      "5          0.88456\n",
      "6          0.88128\n",
      "7          0.86469\n",
      "8          0.86060\n",
      "9          0.81904\n",
      "10          0.76049\n"
     ]
    }
   ],
   "source": [
    "cv_scores=[]\n",
    "C=1.0\n",
    "\n",
    "models = (\n",
    "          svm.SVC(kernel='rbf', gamma=0.5, C=C),\n",
    "          svm.SVC(kernel='rbf', gamma=0.7, C=C),\n",
    "          svm.SVC(kernel='rbf', gamma=0.9, C=C),\n",
    "          svm.SVC(kernel='rbf', gamma=1, C=C),\n",
    "          svm.SVC(kernel='rbf', gamma=1.2, C=C),\n",
    "          svm.SVC(kernel='rbf', gamma=1.3, C=C),\n",
    "          svm.SVC(kernel='rbf', gamma=1.4, C=C),\n",
    "          svm.SVC(kernel='rbf', gamma=1.8, C=C),\n",
    "          svm.SVC(kernel='rbf', gamma=2, C=C),\n",
    "          svm.SVC(kernel='rbf', gamma=4, C=C),\n",
    "          svm.SVC(kernel='rbf', gamma=10, C=C))\n",
    "\n",
    "for m in models:\n",
    "    scores = cross_val_score(m, x_train_res, y_train_res, cv=10, scoring='accuracy')\n",
    "    cv_scores.append(scores.mean())\n",
    "    \n",
    "print (\"index          Score          MSE\")\n",
    "for i in range(len(models)):\n",
    "    print ('%d          %.5f' % (i, cv_scores[i]))"
   ]
  },
  {
   "cell_type": "code",
   "execution_count": 42,
   "metadata": {},
   "outputs": [
    {
     "name": "stdout",
     "output_type": "stream",
     "text": [
      "index          Score          MSE\n",
      "0          0.87516\n",
      "1          0.90341\n",
      "2          0.91098\n",
      "3          0.91343\n",
      "4          0.90995\n",
      "5          0.90545\n",
      "6          0.90135\n",
      "7          0.89644\n",
      "8          0.89153\n",
      "9          0.88846\n"
     ]
    }
   ],
   "source": [
    "cv_scores=[]\n",
    "C=1.0\n",
    "\n",
    "models = (\n",
    "          svm.SVC(kernel='rbf', gamma=0.1, C=C),\n",
    "          svm.SVC(kernel='rbf', gamma=0.2, C=C),\n",
    "          svm.SVC(kernel='rbf', gamma=0.3, C=C),\n",
    "          svm.SVC(kernel='rbf', gamma=0.4, C=C),\n",
    "          svm.SVC(kernel='rbf', gamma=0.5, C=C),\n",
    "          svm.SVC(kernel='rbf', gamma=0.6, C=C),\n",
    "          svm.SVC(kernel='rbf', gamma=0.7, C=C),\n",
    "          svm.SVC(kernel='rbf', gamma=0.8, C=C),\n",
    "          svm.SVC(kernel='rbf', gamma=0.9, C=C),\n",
    "          svm.SVC(kernel='rbf', gamma=1.0, C=C))\n",
    "\n",
    "for m in models:\n",
    "    scores = cross_val_score(m, x_train_res, y_train_res, cv=5, scoring='accuracy')\n",
    "    cv_scores.append(scores.mean())\n",
    "    \n",
    "print (\"index          Score          MSE\")\n",
    "for i in range(len(models)):\n",
    "    print ('%d          %.5f' % (i, cv_scores[i]))"
   ]
  },
  {
   "cell_type": "code",
   "execution_count": 45,
   "metadata": {},
   "outputs": [
    {
     "name": "stdout",
     "output_type": "stream",
     "text": [
      "Validation Results\n",
      "confusion matrix\n",
      "[[613   1]\n",
      " [114  56]]\n",
      "accuracy         recall        precision      f1_score\n",
      "0.853316326531 0.329411764706 0.982456140351 0.493392070485\n",
      "\n",
      "Test Results\n",
      "confusion matrix\n",
      "[[780   1]\n",
      " [138  61]]\n",
      "accuracy         recall        precision      f1_score\n",
      "0.858163265306 0.306532663317 0.983870967742 0.467432950192\n"
     ]
    }
   ],
   "source": [
    "clf_rf = svm.SVC(kernel='rbf', gamma=0.7, C=1)\n",
    "clf_rf.fit(X_train, Y_train)\n",
    "\n",
    "print ('Validation Results')\n",
    "print ('confusion matrix')\n",
    "print (confusion_matrix(Y_val, clf_rf.predict(X_val)))\n",
    "print (\"accuracy         recall        precision      f1_score\")\n",
    "print (accuracy_score(Y_val, clf_rf.predict(X_val)),\\\n",
    "       recall_score(Y_val, clf_rf.predict(X_val)),\\\n",
    "       precision_score(Y_val, clf_rf.predict(X_val)),\\\n",
    "      f1_score(Y_val, clf_rf.predict(X_val)))\n",
    "print ('\\nTest Results')\n",
    "print ('confusion matrix')\n",
    "print (confusion_matrix(Y_test, clf_rf.predict(X_test)))\n",
    "print (\"accuracy         recall        precision      f1_score\")\n",
    "print (accuracy_score(Y_test, clf_rf.predict(X_test)),\\\n",
    "      recall_score(Y_test, clf_rf.predict(X_test)),\\\n",
    "       precision_score(Y_test, clf_rf.predict(X_test)),\\\n",
    "      f1_score(Y_test, clf_rf.predict(X_test)))"
   ]
  },
  {
   "cell_type": "code",
   "execution_count": 38,
   "metadata": {},
   "outputs": [
    {
     "name": "stdout",
     "output_type": "stream",
     "text": [
      "index          Score          MSE\n",
      "0          0.91343\n",
      "1          0.91711\n",
      "2          0.91670\n",
      "3          0.91711\n",
      "4          0.91752\n",
      "5          0.91732\n",
      "6          0.91711\n"
     ]
    }
   ],
   "source": [
    "cv_scores=[]\n",
    "C=1.0\n",
    "\n",
    "models = (\n",
    "          svm.SVC(kernel='rbf', gamma=0.4, C=1),\n",
    "          svm.SVC(kernel='rbf', gamma=0.4, C=1.2),\n",
    "          svm.SVC(kernel='rbf', gamma=0.4, C=1.4),\n",
    "          svm.SVC(kernel='rbf', gamma=0.4, C=1.6),\n",
    "          svm.SVC(kernel='rbf', gamma=0.4, C=1.8),\n",
    "          svm.SVC(kernel='rbf', gamma=0.4, C=2),\n",
    "          svm.SVC(kernel='rbf', gamma=0.4, C=4)\n",
    ")\n",
    "\n",
    "for m in models:\n",
    "    scores = cross_val_score(m, x_train_res, y_train_res, cv=5, scoring='accuracy')\n",
    "    cv_scores.append(scores.mean())\n",
    "    \n",
    "print (\"index          Score          MSE\")\n",
    "for i in range(len(models)):\n",
    "    print ('%d          %.5f' % (i, cv_scores[i]))"
   ]
  },
  {
   "cell_type": "code",
   "execution_count": null,
   "metadata": {
    "collapsed": true
   },
   "outputs": [],
   "source": []
  }
 ],
 "metadata": {
  "kernelspec": {
   "display_name": "Python 3",
   "language": "python",
   "name": "python3"
  },
  "language_info": {
   "codemirror_mode": {
    "name": "ipython",
    "version": 3
   },
   "file_extension": ".py",
   "mimetype": "text/x-python",
   "name": "python",
   "nbconvert_exporter": "python",
   "pygments_lexer": "ipython3",
   "version": "3.6.1"
  }
 },
 "nbformat": 4,
 "nbformat_minor": 2
}
